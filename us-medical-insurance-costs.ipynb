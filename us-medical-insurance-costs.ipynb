{
 "cells": [
  {
   "cell_type": "markdown",
   "metadata": {},
   "source": [
    "# U.S. Medical Insurance Costs"
   ]
  },
  {
   "cell_type": "markdown",
   "metadata": {},
   "source": [
    "## Look over your dataset\n",
    "\n",
    "Open **insurance.cvs** and take a look at the file. Take note of how information is organized.<br> \n",
    "How will this affect how you analyze the data in Python?<br> \n",
    "Is there anything of particular interest to you in the dataset that you want to investigate?<br> \n",
    "Think about these things before you jump into Python.<br>"
   ]
  },
  {
   "cell_type": "code",
   "execution_count": 5,
   "metadata": {},
   "outputs": [
    {
     "name": "stdout",
     "output_type": "stream",
     "text": [
      "['age', 'sex', 'bmi', 'children', 'smoker', 'region', 'charges']\n",
      "['19', 'female', '27.9', '0', 'yes', 'southwest', '16884.924']\n",
      "['18', 'male', '33.77', '1', 'no', 'southeast', '1725.5523']\n",
      "['28', 'male', '33', '3', 'no', 'southeast', '4449.462']\n",
      "['33', 'male', '22.705', '0', 'no', 'northwest', '21984.47061']\n",
      "['32', 'male', '28.88', '0', 'no', 'northwest', '3866.8552']\n",
      "['31', 'female', '25.74', '0', 'no', 'southeast', '3756.6216']\n",
      "['46', 'female', '33.44', '1', 'no', 'southeast', '8240.5896']\n",
      "['37', 'female', '27.74', '3', 'no', 'northwest', '7281.5056']\n",
      "['37', 'male', '29.83', '2', 'no', 'northeast', '6406.4107']\n",
      "['60', 'female', '25.84', '0', 'no', 'northwest', '28923.13692']\n"
     ]
    }
   ],
   "source": [
    "import csv\n",
    "\n",
    "# print the whole CSV file\n",
    "# with open(\"insurance.csv\") as insurance:\n",
    "#    print(insurance.read())\n",
    "\n",
    "# print the first 10 rows and the header of the CSV file\n",
    "with open(\"insurance.csv\") as insurance:\n",
    "    file_reader = csv.reader(insurance, delimiter = \",\")\n",
    "    count = 0\n",
    "    for row in file_reader:\n",
    "        print (row)\n",
    "        if count > 9:\n",
    "            break\n",
    "        count += 1\n",
    "    "
   ]
  },
  {
   "cell_type": "markdown",
   "metadata": {},
   "source": [
    "The file has 7 columns: <br>\n",
    "**age**: number (integer) <br>\n",
    "**sex**: female, male <br>\n",
    "**bmi**: number (float) <br>\n",
    "**children**: number (integer) <br>\n",
    "**smoker**: yes, no <br>\n",
    "**region**: southwest, southeast, northwest, northeast <br>\n",
    "**charges**: number (float) <br>\n",
    "\n",
    "Each row represents one record.\n",
    "Fortunately, there is no missing data."
   ]
  },
  {
   "cell_type": "markdown",
   "metadata": {},
   "source": [
    "## Scope your Project\n",
    "\n",
    "__Basic Queries__<br>\n",
    "* Find out the average age of the patients in the dataset.\n",
    "* Analyze where a majority of the individuals are from.\n",
    "* Look at the different costs between smokers vs. non-smokers.\n",
    "* Figure out what the average age is for someone who has at least one child in this dataset.\n",
    "\n",
    "__Data Manipulation__<br>\n",
    "\n",
    "I will use the facilities that the csv library provides. <br>\n",
    "I will use the **DictReader** function and manipulate the Python Dictionary that this function returns.<br> \n",
    "The structure of the dictionary is similar to the one we used in the \"Medical Insurance Project\" <br>\n",
    "\n",
    "medical_record[i] = {\"age\": <number>, \"sex\": \"male/female\", \"bmi\": <number>, \"children\": <number>, \"smoker\": \"yes/no\", \"region\":\"southwest/southeast/northwest/northeast\", \"charges\": <number>}<br>\n",
    "\n",
    "I will define a function for each one of the queries requested. <br>\n",
    "The function will received the csv file name (and an extra parameter if needed) and will return the result to print it outside the function."
   ]
  },
  {
   "cell_type": "markdown",
   "metadata": {},
   "source": [
    "## Functions to implement\n",
    "\n",
    "### Average age of the patients in the dataset."
   ]
  },
  {
   "cell_type": "code",
   "execution_count": 20,
   "metadata": {},
   "outputs": [
    {
     "name": "stdout",
     "output_type": "stream",
     "text": [
      "The average age of the patients in the datasheet is 39\n"
     ]
    }
   ],
   "source": [
    "def average_age(csv_file):\n",
    "    total_age = 0\n",
    "    num_records = 0\n",
    "    with open(csv_file) as insurance_records:\n",
    "        medical_records = csv.DictReader(insurance_records)\n",
    "        for record in medical_records:\n",
    "            total_age += int(record[\"age\"])\n",
    "            num_records += 1\n",
    "    return round(total_age / num_records)\n",
    "\n",
    "# Testing function\n",
    "print (\"The average age of the patients in the datasheet is {average}\".format(average = average_age(\"insurance.csv\")))"
   ]
  },
  {
   "cell_type": "markdown",
   "metadata": {},
   "source": [
    "### Where the majority of the individuals are from <br>\n",
    "Initially, I created the function just to focus on the region, but after reading the project extension task,<br>\n",
    "I decided to modify it and make it generic. This way, the function can provide the number of elements per category. <br>\n",
    "This way is easier to identify if the data is bais or not. "
   ]
  },
  {
   "cell_type": "code",
   "execution_count": 53,
   "metadata": {},
   "outputs": [
    {
     "name": "stdout",
     "output_type": "stream",
     "text": [
      "{'southwest': 325, 'southeast': 364, 'northwest': 325, 'northeast': 324}\n",
      "The southeast region is the biggest with 364 members\n",
      "{'female': 662, 'male': 676}\n",
      "There are more males with 676 members register\n",
      "{'yes': 274, 'no': 1064}\n",
      "There are more Non smokers with 1064 members register\n"
     ]
    }
   ],
   "source": [
    "def count_by_category(csv_file, category):\n",
    "    categories = {} # this dictionary will provide the results\n",
    "    with open(csv_file) as insurance_records:\n",
    "        medical_records = csv.DictReader(insurance_records)\n",
    "        for record in medical_records:\n",
    "            key = record[category]\n",
    "            if key in categories: # we find if the category is already in the dictionary\n",
    "                categories[key] = categories[key] + 1 # we add a new entry into the dictionary\n",
    "            else:\n",
    "                categories[key] = 1 # We create a new region in our dictionary\n",
    "    return categories\n",
    "\n",
    "def max_category(category): # this function will provide the category with the most customers register\n",
    "    name = \"\"\n",
    "    total = 0\n",
    "    for key,value in category.items():\n",
    "        if total < value:\n",
    "            total = value\n",
    "            name = key \n",
    "    return name, total\n",
    "\n",
    "# Testing function\n",
    "regions = count_by_category(\"insurance.csv\", \"region\")\n",
    "print (regions)\n",
    "region, total = max_category(regions)\n",
    "print (\"The {0} region is the biggest with {1} members\".format(region, total))\n",
    "sexes = count_by_category(\"insurance.csv\", \"sex\")\n",
    "print (sexes)\n",
    "sex, total = max_category(sexes)\n",
    "print (\"There are more {0}s with {1} members register\".format(sex, total))\n",
    "smokers = count_by_category(\"insurance.csv\", \"smoker\")\n",
    "print (smokers)\n",
    "smoke, total = max_category(smokers)\n",
    "if smoke == \"yes\":\n",
    "    print (\"There are more smokers with {1} members register\".format(smoke, total))\n",
    "else:\n",
    "    print (\"There are more Non smokers with {1} members register\".format(smoke, total))"
   ]
  },
  {
   "cell_type": "markdown",
   "metadata": {},
   "source": [
    "### Different Costs between Smokers and No-Smokers\n",
    "This function provides the difference in costs by any categorical value in the file."
   ]
  },
  {
   "cell_type": "code",
   "execution_count": 46,
   "metadata": {},
   "outputs": [
    {
     "name": "stdout",
     "output_type": "stream",
     "text": [
      "{'yes': 32050.23183153285, 'no': 8434.268297856199}\n",
      "{'female': 12569.57884383534, 'male': 13956.751177721886}\n",
      "{'southwest': 12346.93737729231, 'southeast': 14735.411437609895, 'northwest': 12417.575373969228, 'northeast': 13406.3845163858}\n",
      "{'0': 12365.975601635882, '1': 12731.171831635793, '3': 15355.31836681528, '2': 15073.563733958328, '5': 8786.035247222222, '4': 13850.656311199999}\n",
      "[('18', 7086.2175563623205), ('19', 9747.909334558823), ('20', 10159.697736206897), ('21', 4730.464329642857), ('22', 10012.932801785715), ('23', 12419.820039642855), ('24', 10648.015962142857), ('25', 9838.365310714285), ('26', 6133.825308571429), ('27', 12184.701721428573), ('28', 9069.187564285712), ('29', 10430.158727037038), ('30', 12719.110358148146), ('31', 10196.980573333332), ('32', 9220.300290769232), ('33', 12351.53298730769), ('34', 11613.52812076923), ('35', 11307.182031200002), ('36', 12204.476138), ('37', 18019.9118772), ('38', 8102.733674), ('39', 11778.2429452), ('40', 11772.25131), ('41', 9653.745649629629), ('42', 13061.038668888888), ('43', 19267.27865333333), ('44', 15859.396587037038), ('45', 14830.199856206897), ('46', 14342.590638620688), ('47', 17653.99959310345), ('48', 14632.50044517241), ('49', 12696.006264285714), ('50', 15663.003300689661), ('51', 15682.255867241382), ('52', 18256.26971931034), ('53', 16020.930755000003), ('54', 18758.546475357143), ('55', 16164.54548846154), ('56', 15025.515836538463), ('57', 16447.185250000002), ('58', 13878.9281116), ('59', 18895.869531599998), ('60', 21979.418507391303), ('61', 22024.45760869565), ('62', 19163.85657347826), ('63', 19884.998460869567), ('64', 23275.530837272723)]\n"
     ]
    }
   ],
   "source": [
    "def cost_difference_by_category(csv_file, category):\n",
    "    categories = {} # This dictionary will provide the average charges for the categories selected\n",
    "    totals = {} # This dictionary will count the number of instances per categories\n",
    "    with open(csv_file) as insurance_records:\n",
    "        medical_records = csv.DictReader(insurance_records)\n",
    "        for record in medical_records:\n",
    "            key = record[category]\n",
    "            if key in categories: # we find if the categpry is already in the dictionary\n",
    "                categories[key] = categories[key] + float(record[\"charges\"]) # we accumulate with the new entry into the dictionary\n",
    "                totals[key] += 1\n",
    "            else:\n",
    "                categories[key] = float(record[\"charges\"]) # We create a new category in our dictionary\n",
    "                totals[key] = 1\n",
    "    # print (categories)\n",
    "    # print (totals)\n",
    "    for key, value in totals.items(): # We will get the average value of each category\n",
    "        categories[key] = categories[key] / value\n",
    "    return categories\n",
    "\n",
    "# Test function\n",
    "print(cost_difference_by_category(\"insurance.csv\", \"smoker\"))\n",
    "print(cost_difference_by_category(\"insurance.csv\", \"sex\"))\n",
    "print(cost_difference_by_category(\"insurance.csv\", \"region\"))\n",
    "print(cost_difference_by_category(\"insurance.csv\", \"children\"))\n",
    "print(sorted(cost_difference_by_category(\"insurance.csv\", \"age\").items(), key=lambda x: x[0]))"
   ]
  },
  {
   "cell_type": "markdown",
   "metadata": {},
   "source": [
    "### Average age for someone who has at least one child"
   ]
  },
  {
   "cell_type": "code",
   "execution_count": 39,
   "metadata": {},
   "outputs": [
    {
     "name": "stdout",
     "output_type": "stream",
     "text": [
      "The average age of the patients with at least one child is 40\n"
     ]
    }
   ],
   "source": [
    "def avg_age_with_children(csv_file):\n",
    "    total_analyzed = 0\n",
    "    age = 0\n",
    "    with open(csv_file) as insurance_records:\n",
    "        medical_records = csv.DictReader(insurance_records)\n",
    "        for record in medical_records:\n",
    "           if int(record[\"children\"]) >= 1:\n",
    "            age += int(record[\"age\"])\n",
    "            total_analyzed += 1\n",
    "    return round(age / total_analyzed)\n",
    "\n",
    "#Test function\n",
    "print (\"The average age of the patients with at least one child is {average}\".format(average = avg_age_with_children(\"insurance.csv\")))"
   ]
  },
  {
   "cell_type": "markdown",
   "metadata": {},
   "source": [
    "### Additional Comments\n",
    "\n",
    "Once I completed the functions and run some tests, I found the following:\n",
    "* There are almost 4 times more no-smokers than smokers in the dataset. That is a similar difference with regards to the average cost difference between a smoker and a non-smoker.<br>\n",
    "\n",
    "* If you look at the population distribution and the differences between males and females, the counts are similar, and so the costs. There needs to be more analysis to identify features that trigger costs increases, for example, combining sex & region. <br>\n",
    "* You can also see a bias in the data when analyzing how the number of children flied impacts costs. The more children you have, the less the costs, which seems odd. Looking deeper into the amount of information of the dataset, you notice that there are fewer records of people with 4 and 5 children than with 0-3.\n",
    "<br>"
   ]
  },
  {
   "cell_type": "code",
   "execution_count": null,
   "metadata": {},
   "outputs": [],
   "source": []
  }
 ],
 "metadata": {
  "celltoolbar": "Raw Cell Format",
  "kernelspec": {
   "display_name": "Python 3",
   "language": "python",
   "name": "python3"
  },
  "language_info": {
   "codemirror_mode": {
    "name": "ipython",
    "version": 3
   },
   "file_extension": ".py",
   "mimetype": "text/x-python",
   "name": "python",
   "nbconvert_exporter": "python",
   "pygments_lexer": "ipython3",
   "version": "3.7.4"
  }
 },
 "nbformat": 4,
 "nbformat_minor": 4
}
